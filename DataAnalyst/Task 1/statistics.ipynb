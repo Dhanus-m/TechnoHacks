{
 "cells": [
  {
   "cell_type": "markdown",
   "id": "0148563b-d08b-4513-a5fb-2c56b7aac299",
   "metadata": {},
   "source": [
    "# <font color='green'> <center>TechnoHacks Edutech</center></font>\n",
    "# <font color='greenish'> <center>Data Analyst Intern</center></font>"
   ]
  },
  {
   "cell_type": "markdown",
   "id": "5c097c3e-a2de-4392-bcbc-ad7b394b6e60",
   "metadata": {},
   "source": [
    "## <font color='black'> <center><b>Task Name:<b>  Calculate Summary Statistics</center></font>"
   ]
  },
  {
   "cell_type": "markdown",
   "id": "ab91469e-86b2-402f-b39b-90e11b23e2f1",
   "metadata": {},
   "source": [
    "### <font color='orange'>About Task:</font>"
   ]
  },
  {
   "cell_type": "markdown",
   "id": "cb9a58d5-aa9d-4970-936f-befcf2bd824a",
   "metadata": {
    "jp-MarkdownHeadingCollapsed": true
   },
   "source": [
    "#### We have to calculate summary statistics like mean, median, mode, standard deviation for a datasets (Titanic dataset)."
   ]
  },
  {
   "cell_type": "markdown",
   "id": "29828c21-40cc-489c-b185-05c4f968e8a2",
   "metadata": {},
   "source": [
    "### <font color='cyan'>Author:</font>\n"
   ]
  },
  {
   "cell_type": "markdown",
   "id": "3b859ad7-5135-47f3-b9c1-eba4045792be",
   "metadata": {},
   "source": [
    "#### DHANUSH M"
   ]
  },
  {
   "cell_type": "markdown",
   "id": "38aa1259-e500-444c-bf1d-74fcd9650261",
   "metadata": {},
   "source": [
    "### **Preprocessing**"
   ]
  },
  {
   "cell_type": "markdown",
   "id": "57e06bb0-1174-4a90-b5b0-09ac43c512bc",
   "metadata": {},
   "source": [
    "#### **importing necessary packages**"
   ]
  },
  {
   "cell_type": "code",
   "execution_count": 1,
   "id": "82f8c94d-b8a7-44fb-9de3-a9b61ece2a12",
   "metadata": {},
   "outputs": [],
   "source": [
    "import pandas as pd\n",
    "import numpy as np\n"
   ]
  },
  {
   "cell_type": "markdown",
   "id": "bd000c14-2f1d-4970-8cda-31f63e593eec",
   "metadata": {},
   "source": [
    "#### ***Loading Dataset***"
   ]
  },
  {
   "cell_type": "code",
   "execution_count": 5,
   "id": "eb2657e2-aad9-4198-979c-95e3303e26ca",
   "metadata": {},
   "outputs": [],
   "source": [
    "data=pd.read_csv(\"titanic.csv\")"
   ]
  },
  {
   "cell_type": "code",
   "execution_count": 6,
   "id": "d582fb6e-5ddf-4728-8ab5-dbc3cc0d1d6a",
   "metadata": {},
   "outputs": [
    {
     "data": {
      "text/html": [
       "<div>\n",
       "<style scoped>\n",
       "    .dataframe tbody tr th:only-of-type {\n",
       "        vertical-align: middle;\n",
       "    }\n",
       "\n",
       "    .dataframe tbody tr th {\n",
       "        vertical-align: top;\n",
       "    }\n",
       "\n",
       "    .dataframe thead th {\n",
       "        text-align: right;\n",
       "    }\n",
       "</style>\n",
       "<table border=\"1\" class=\"dataframe\">\n",
       "  <thead>\n",
       "    <tr style=\"text-align: right;\">\n",
       "      <th></th>\n",
       "      <th>PassengerId</th>\n",
       "      <th>Survived</th>\n",
       "      <th>Pclass</th>\n",
       "      <th>Name</th>\n",
       "      <th>Sex</th>\n",
       "      <th>Age</th>\n",
       "      <th>SibSp</th>\n",
       "      <th>Parch</th>\n",
       "      <th>Ticket</th>\n",
       "      <th>Fare</th>\n",
       "      <th>Cabin</th>\n",
       "      <th>Embarked</th>\n",
       "    </tr>\n",
       "  </thead>\n",
       "  <tbody>\n",
       "    <tr>\n",
       "      <th>0</th>\n",
       "      <td>1</td>\n",
       "      <td>0</td>\n",
       "      <td>3</td>\n",
       "      <td>Braund, Mr. Owen Harris</td>\n",
       "      <td>male</td>\n",
       "      <td>22.0</td>\n",
       "      <td>1</td>\n",
       "      <td>0</td>\n",
       "      <td>A/5 21171</td>\n",
       "      <td>7.2500</td>\n",
       "      <td>NaN</td>\n",
       "      <td>S</td>\n",
       "    </tr>\n",
       "    <tr>\n",
       "      <th>1</th>\n",
       "      <td>2</td>\n",
       "      <td>1</td>\n",
       "      <td>1</td>\n",
       "      <td>Cumings, Mrs. John Bradley (Florence Briggs Th...</td>\n",
       "      <td>female</td>\n",
       "      <td>38.0</td>\n",
       "      <td>1</td>\n",
       "      <td>0</td>\n",
       "      <td>PC 17599</td>\n",
       "      <td>71.2833</td>\n",
       "      <td>C85</td>\n",
       "      <td>C</td>\n",
       "    </tr>\n",
       "    <tr>\n",
       "      <th>2</th>\n",
       "      <td>3</td>\n",
       "      <td>1</td>\n",
       "      <td>3</td>\n",
       "      <td>Heikkinen, Miss. Laina</td>\n",
       "      <td>female</td>\n",
       "      <td>26.0</td>\n",
       "      <td>0</td>\n",
       "      <td>0</td>\n",
       "      <td>STON/O2. 3101282</td>\n",
       "      <td>7.9250</td>\n",
       "      <td>NaN</td>\n",
       "      <td>S</td>\n",
       "    </tr>\n",
       "    <tr>\n",
       "      <th>3</th>\n",
       "      <td>4</td>\n",
       "      <td>1</td>\n",
       "      <td>1</td>\n",
       "      <td>Futrelle, Mrs. Jacques Heath (Lily May Peel)</td>\n",
       "      <td>female</td>\n",
       "      <td>35.0</td>\n",
       "      <td>1</td>\n",
       "      <td>0</td>\n",
       "      <td>113803</td>\n",
       "      <td>53.1000</td>\n",
       "      <td>C123</td>\n",
       "      <td>S</td>\n",
       "    </tr>\n",
       "    <tr>\n",
       "      <th>4</th>\n",
       "      <td>5</td>\n",
       "      <td>0</td>\n",
       "      <td>3</td>\n",
       "      <td>Allen, Mr. William Henry</td>\n",
       "      <td>male</td>\n",
       "      <td>35.0</td>\n",
       "      <td>0</td>\n",
       "      <td>0</td>\n",
       "      <td>373450</td>\n",
       "      <td>8.0500</td>\n",
       "      <td>NaN</td>\n",
       "      <td>S</td>\n",
       "    </tr>\n",
       "  </tbody>\n",
       "</table>\n",
       "</div>"
      ],
      "text/plain": [
       "   PassengerId  Survived  Pclass  \\\n",
       "0            1         0       3   \n",
       "1            2         1       1   \n",
       "2            3         1       3   \n",
       "3            4         1       1   \n",
       "4            5         0       3   \n",
       "\n",
       "                                                Name     Sex   Age  SibSp  \\\n",
       "0                            Braund, Mr. Owen Harris    male  22.0      1   \n",
       "1  Cumings, Mrs. John Bradley (Florence Briggs Th...  female  38.0      1   \n",
       "2                             Heikkinen, Miss. Laina  female  26.0      0   \n",
       "3       Futrelle, Mrs. Jacques Heath (Lily May Peel)  female  35.0      1   \n",
       "4                           Allen, Mr. William Henry    male  35.0      0   \n",
       "\n",
       "   Parch            Ticket     Fare Cabin Embarked  \n",
       "0      0         A/5 21171   7.2500   NaN        S  \n",
       "1      0          PC 17599  71.2833   C85        C  \n",
       "2      0  STON/O2. 3101282   7.9250   NaN        S  \n",
       "3      0            113803  53.1000  C123        S  \n",
       "4      0            373450   8.0500   NaN        S  "
      ]
     },
     "execution_count": 6,
     "metadata": {},
     "output_type": "execute_result"
    }
   ],
   "source": [
    "data.head()"
   ]
  },
  {
   "cell_type": "markdown",
   "id": "6a7f57f3-82cf-4e4c-8dbf-0a03f573b9f8",
   "metadata": {},
   "source": [
    "### **getting numeric column name**"
   ]
  },
  {
   "cell_type": "code",
   "execution_count": 19,
   "id": "95689cdd-f388-4b9d-822b-f73f9d8ee0c4",
   "metadata": {},
   "outputs": [],
   "source": [
    "numeric_column=['PassengerId', 'Survived', 'Pclass','Age', 'SibSp', 'Parch', 'Fare']"
   ]
  },
  {
   "cell_type": "markdown",
   "id": "0e5aaf8d-bcff-48a1-a9b7-fb20eb0fd728",
   "metadata": {},
   "source": [
    "### **Calculating Mean**"
   ]
  },
  {
   "cell_type": "code",
   "execution_count": 27,
   "id": "ade262d6-6c74-4170-b280-555e86c2d31c",
   "metadata": {},
   "outputs": [
    {
     "name": "stdout",
     "output_type": "stream",
     "text": [
      "The Mean value of PassengerId columns is: 446.0\n",
      "The Mean value of Survived columns is: 0.3838383838383838\n",
      "The Mean value of Pclass columns is: 2.308641975308642\n",
      "The Mean value of Age columns is: 29.69911764705882\n",
      "The Mean value of SibSp columns is: 0.5230078563411896\n",
      "The Mean value of Parch columns is: 0.38159371492704824\n",
      "The Mean value of Fare columns is: 32.204207968574636\n"
     ]
    }
   ],
   "source": [
    "for col in numeric_column:\n",
    "    print(f'The Mean value of {col} columns is: {data[col].mean()}')"
   ]
  },
  {
   "cell_type": "markdown",
   "id": "1a08cb91-3508-4ade-a1b0-8c533be6b75c",
   "metadata": {},
   "source": [
    "### **Calculating Median**"
   ]
  },
  {
   "cell_type": "code",
   "execution_count": 26,
   "id": "0f09aab7-85c5-4502-b59e-5a9c8a79a32f",
   "metadata": {},
   "outputs": [
    {
     "name": "stdout",
     "output_type": "stream",
     "text": [
      "The Median value of PassengerId columns is: 446.0\n",
      "The Median value of Survived columns is: 0.0\n",
      "The Median value of Pclass columns is: 3.0\n",
      "The Median value of Age columns is: 28.0\n",
      "The Median value of SibSp columns is: 0.0\n",
      "The Median value of Parch columns is: 0.0\n",
      "The Median value of Fare columns is: 14.4542\n"
     ]
    }
   ],
   "source": [
    "for col in numeric_column:\n",
    "    print(f'The Median value of {col} columns is: {data[col].median()}')"
   ]
  },
  {
   "cell_type": "markdown",
   "id": "3cab90b6-a7fe-4ebc-a1f5-8b1ba8177693",
   "metadata": {},
   "source": [
    "### **Calculating Mode**"
   ]
  },
  {
   "cell_type": "code",
   "execution_count": 25,
   "id": "c95b6b44-4937-465f-98d0-21fe0f15c6c5",
   "metadata": {},
   "outputs": [
    {
     "name": "stdout",
     "output_type": "stream",
     "text": [
      "The Mode value of PassengerId columns is: 1\n",
      "The Mode value of Survived columns is: 0\n",
      "The Mode value of Pclass columns is: 3\n",
      "The Mode value of Age columns is: 24.0\n",
      "The Mode value of SibSp columns is: 0\n",
      "The Mode value of Parch columns is: 0\n",
      "The Mode value of Fare columns is: 8.05\n"
     ]
    }
   ],
   "source": [
    "for col in numeric_column:\n",
    "    print(f'The Mode value of {col} columns is: {data[col].mode()[0]}')"
   ]
  },
  {
   "cell_type": "markdown",
   "id": "a958a3ae-87e7-4d2a-b4c5-d506138e4b67",
   "metadata": {},
   "source": [
    "### **Calculating Standard Deviation**"
   ]
  },
  {
   "cell_type": "code",
   "execution_count": 28,
   "id": "a673a3f3-662c-47b5-b5b6-80253773c6a4",
   "metadata": {},
   "outputs": [
    {
     "name": "stdout",
     "output_type": "stream",
     "text": [
      "The Standar Deviation value of PassengerId columns is: 257.3538420152301\n",
      "The Standar Deviation value of Survived columns is: 0.4865924542648575\n",
      "The Standar Deviation value of Pclass columns is: 0.836071240977049\n",
      "The Standar Deviation value of Age columns is: 14.526497332334042\n",
      "The Standar Deviation value of SibSp columns is: 1.1027434322934317\n",
      "The Standar Deviation value of Parch columns is: 0.8060572211299483\n",
      "The Standar Deviation value of Fare columns is: 49.6934285971809\n"
     ]
    }
   ],
   "source": [
    "for col in numeric_column:\n",
    "    print(f'The Standar Deviation value of {col} columns is: {data[col].std()}')"
   ]
  },
  {
   "cell_type": "markdown",
   "id": "a09f0e36-8bd0-4329-82c6-a668c09d5a70",
   "metadata": {},
   "source": [
    "### **Calculating Summary Statistics using describe() function**"
   ]
  },
  {
   "cell_type": "code",
   "execution_count": 29,
   "id": "79ff6bf3-53fc-4835-a795-ca010777ec1b",
   "metadata": {},
   "outputs": [
    {
     "data": {
      "text/html": [
       "<div>\n",
       "<style scoped>\n",
       "    .dataframe tbody tr th:only-of-type {\n",
       "        vertical-align: middle;\n",
       "    }\n",
       "\n",
       "    .dataframe tbody tr th {\n",
       "        vertical-align: top;\n",
       "    }\n",
       "\n",
       "    .dataframe thead th {\n",
       "        text-align: right;\n",
       "    }\n",
       "</style>\n",
       "<table border=\"1\" class=\"dataframe\">\n",
       "  <thead>\n",
       "    <tr style=\"text-align: right;\">\n",
       "      <th></th>\n",
       "      <th>PassengerId</th>\n",
       "      <th>Survived</th>\n",
       "      <th>Pclass</th>\n",
       "      <th>Age</th>\n",
       "      <th>SibSp</th>\n",
       "      <th>Parch</th>\n",
       "      <th>Fare</th>\n",
       "    </tr>\n",
       "  </thead>\n",
       "  <tbody>\n",
       "    <tr>\n",
       "      <th>count</th>\n",
       "      <td>891.000000</td>\n",
       "      <td>891.000000</td>\n",
       "      <td>891.000000</td>\n",
       "      <td>714.000000</td>\n",
       "      <td>891.000000</td>\n",
       "      <td>891.000000</td>\n",
       "      <td>891.000000</td>\n",
       "    </tr>\n",
       "    <tr>\n",
       "      <th>mean</th>\n",
       "      <td>446.000000</td>\n",
       "      <td>0.383838</td>\n",
       "      <td>2.308642</td>\n",
       "      <td>29.699118</td>\n",
       "      <td>0.523008</td>\n",
       "      <td>0.381594</td>\n",
       "      <td>32.204208</td>\n",
       "    </tr>\n",
       "    <tr>\n",
       "      <th>std</th>\n",
       "      <td>257.353842</td>\n",
       "      <td>0.486592</td>\n",
       "      <td>0.836071</td>\n",
       "      <td>14.526497</td>\n",
       "      <td>1.102743</td>\n",
       "      <td>0.806057</td>\n",
       "      <td>49.693429</td>\n",
       "    </tr>\n",
       "    <tr>\n",
       "      <th>min</th>\n",
       "      <td>1.000000</td>\n",
       "      <td>0.000000</td>\n",
       "      <td>1.000000</td>\n",
       "      <td>0.420000</td>\n",
       "      <td>0.000000</td>\n",
       "      <td>0.000000</td>\n",
       "      <td>0.000000</td>\n",
       "    </tr>\n",
       "    <tr>\n",
       "      <th>25%</th>\n",
       "      <td>223.500000</td>\n",
       "      <td>0.000000</td>\n",
       "      <td>2.000000</td>\n",
       "      <td>20.125000</td>\n",
       "      <td>0.000000</td>\n",
       "      <td>0.000000</td>\n",
       "      <td>7.910400</td>\n",
       "    </tr>\n",
       "    <tr>\n",
       "      <th>50%</th>\n",
       "      <td>446.000000</td>\n",
       "      <td>0.000000</td>\n",
       "      <td>3.000000</td>\n",
       "      <td>28.000000</td>\n",
       "      <td>0.000000</td>\n",
       "      <td>0.000000</td>\n",
       "      <td>14.454200</td>\n",
       "    </tr>\n",
       "    <tr>\n",
       "      <th>75%</th>\n",
       "      <td>668.500000</td>\n",
       "      <td>1.000000</td>\n",
       "      <td>3.000000</td>\n",
       "      <td>38.000000</td>\n",
       "      <td>1.000000</td>\n",
       "      <td>0.000000</td>\n",
       "      <td>31.000000</td>\n",
       "    </tr>\n",
       "    <tr>\n",
       "      <th>max</th>\n",
       "      <td>891.000000</td>\n",
       "      <td>1.000000</td>\n",
       "      <td>3.000000</td>\n",
       "      <td>80.000000</td>\n",
       "      <td>8.000000</td>\n",
       "      <td>6.000000</td>\n",
       "      <td>512.329200</td>\n",
       "    </tr>\n",
       "  </tbody>\n",
       "</table>\n",
       "</div>"
      ],
      "text/plain": [
       "       PassengerId    Survived      Pclass         Age       SibSp  \\\n",
       "count   891.000000  891.000000  891.000000  714.000000  891.000000   \n",
       "mean    446.000000    0.383838    2.308642   29.699118    0.523008   \n",
       "std     257.353842    0.486592    0.836071   14.526497    1.102743   \n",
       "min       1.000000    0.000000    1.000000    0.420000    0.000000   \n",
       "25%     223.500000    0.000000    2.000000   20.125000    0.000000   \n",
       "50%     446.000000    0.000000    3.000000   28.000000    0.000000   \n",
       "75%     668.500000    1.000000    3.000000   38.000000    1.000000   \n",
       "max     891.000000    1.000000    3.000000   80.000000    8.000000   \n",
       "\n",
       "            Parch        Fare  \n",
       "count  891.000000  891.000000  \n",
       "mean     0.381594   32.204208  \n",
       "std      0.806057   49.693429  \n",
       "min      0.000000    0.000000  \n",
       "25%      0.000000    7.910400  \n",
       "50%      0.000000   14.454200  \n",
       "75%      0.000000   31.000000  \n",
       "max      6.000000  512.329200  "
      ]
     },
     "execution_count": 29,
     "metadata": {},
     "output_type": "execute_result"
    }
   ],
   "source": [
    "data.describe()"
   ]
  },
  {
   "cell_type": "markdown",
   "id": "02d38418-a2b1-4172-83aa-3ff80f3d52ad",
   "metadata": {},
   "source": [
    " ### *<font color='green' > <center>Thank You</center></font>*"
   ]
  }
 ],
 "metadata": {
  "kernelspec": {
   "display_name": "Python 3 (ipykernel)",
   "language": "python",
   "name": "python3"
  },
  "language_info": {
   "codemirror_mode": {
    "name": "ipython",
    "version": 3
   },
   "file_extension": ".py",
   "mimetype": "text/x-python",
   "name": "python",
   "nbconvert_exporter": "python",
   "pygments_lexer": "ipython3",
   "version": "3.10.10"
  }
 },
 "nbformat": 4,
 "nbformat_minor": 5
}
